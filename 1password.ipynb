{
 "cells": [
  {
   "cell_type": "markdown",
   "metadata": {},
   "source": [
    "## 1. Password\n",
    "Write a Python program to check the validity of a password (input from users)\n",
    "    \n",
    "**Rules :**\n",
    "- At least 1 letter between [a-z] and 1 letter between [A-Z]\n",
    "- At least 1 number between [0-9].\n",
    "- At least 1 character from [$#@].\n",
    "- Minimum length 6 characters.\n",
    "- Maximum length 16 characters.\n",
    "If password is not valid throw `ValueError` with a proper error message for each rule. If the password is valid print a success message. Use some from  `raise`, `except`, `assert`, `else` and `finally` keywords."
   ]
  },
  {
   "cell_type": "code",
   "execution_count": 40,
   "metadata": {},
   "outputs": [
    {
     "name": "stdout",
     "output_type": "stream",
     "text": [
      "Password is valid.\n"
     ]
    }
   ],
   "source": [
    "import re\n",
    "def password_validation(password):\n",
    "    pattern = \"^.*(?=.*[a-z])(?=.*[A-Z])(?=.*[0-9])(?=.*[$#@])(?=.{8,16}).*$\" #^.*-----------.*$ #(?=.*------)\n",
    "    if bool(re.findall(pattern,password))==False:\n",
    "        raise ValueError(\"This password is not valid.\")\n",
    "    else:\n",
    "        return 'Password is valid.'\n",
    "print(password_validation(input(\"\")))    # aAzc1$22 "
   ]
  }
 ],
 "metadata": {
  "kernelspec": {
   "display_name": "Python 3.8.5 64-bit ('base': conda)",
   "name": "python385jvsc74a57bd0054e6073c53ecefb2cc966210e656e13c3a3c774a68778f6cdf25d7c37e20456"
  },
  "language_info": {
   "codemirror_mode": {
    "name": "ipython",
    "version": 3
   },
   "file_extension": ".py",
   "mimetype": "text/x-python",
   "name": "python",
   "nbconvert_exporter": "python",
   "pygments_lexer": "ipython3",
   "version": "3.8.5"
  },
  "orig_nbformat": 2
 },
 "nbformat": 4,
 "nbformat_minor": 2
}