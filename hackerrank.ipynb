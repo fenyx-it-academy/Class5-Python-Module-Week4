{
 "cells": [
  {
   "cell_type": "code",
   "execution_count": 21,
   "metadata": {},
   "outputs": [],
   "source": [
    "# HackerRank"
   ]
  },
  {
   "cell_type": "code",
   "execution_count": null,
   "metadata": {},
   "outputs": [],
   "source": [
    "# 1. Diagonal Difference: https://www.hackerrank.com/challenges/diagonal-difference/problem\n",
    "def diagonalDifference(arr):\n",
    "    x1=[arr[i][i]for i in range(n)]\n",
    "    x2=[arr[n-i-1][i]for i in range(n)]\n",
    "    return abs(sum(x1)-sum(x2))"
   ]
  },
  {
   "cell_type": "code",
   "execution_count": 30,
   "metadata": {},
   "outputs": [
    {
     "name": "stdout",
     "output_type": "stream",
     "text": [
      "[2, 3, 4, 5, 1]\n",
      "[3, 4, 5, 1, 2]\n",
      "[4, 5, 1, 2, 3]\n",
      "[5, 1, 2, 3, 4]\n"
     ]
    }
   ],
   "source": [
    "# 2. Left Rotation: https://www.hackerrank.com/challenges/array-left-rotation/problem\n",
    "def rotateLeft(d, arr):\n",
    "    for i in range(d):\n",
    "        arr.append(arr[0])\n",
    "        arr.pop(0)\n",
    "    return arr"
   ]
  },
  {
   "cell_type": "code",
   "execution_count": null,
   "metadata": {},
   "outputs": [],
   "source": [
    "# 3. Counter game: https://www.hackerrank.com/challenges/counter-game/problem\n",
    "def closest_power_of_2(n):\n",
    "    return 2**math.floor(math.log(n,2))\n",
    "\n",
    "def counterGame(n):\n",
    "    string=['Louise','Richard']\n",
    "    counter_string=-1\n",
    "    while n!=1:\n",
    "        counter_string+=1 # l\n",
    "        closest=closest_power_of_2(n)\n",
    "        if closest==n:\n",
    "            n=n/2\n",
    "        else:\n",
    "            n=n-closest\n",
    "    return string[counter_string%2]\n"
   ]
  },
  {
   "cell_type": "code",
   "execution_count": null,
   "metadata": {},
   "outputs": [],
   "source": [
    "# 4. Time Delta: https://www.hackerrank.com/challenges/python-time-delta/problem\n",
    "import datetime\n",
    "\n",
    "# Complete the time_delta function below.\n",
    "def time_delta(t1, t2):\n",
    "    ti1=datetime.datetime.strptime(t1,'%a %d %b %Y %H:%M:%S %z')\n",
    "    ti2=datetime.datetime.strptime(t2,'%a %d %b %Y %H:%M:%S %z')\n",
    "    ti3=ti1-ti2\n",
    "    return str(abs(ti3.days*86400+ti3.seconds))"
   ]
  }
 ],
 "metadata": {
  "kernelspec": {
   "display_name": "Python 3.8.5 64-bit ('base': conda)",
   "name": "python385jvsc74a57bd0054e6073c53ecefb2cc966210e656e13c3a3c774a68778f6cdf25d7c37e20456"
  },
  "language_info": {
   "name": "python",
   "version": ""
  },
  "orig_nbformat": 2
 },
 "nbformat": 4,
 "nbformat_minor": 2
}