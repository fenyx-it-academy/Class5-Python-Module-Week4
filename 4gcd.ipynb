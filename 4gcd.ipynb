{
 "cells": [
  {
   "cell_type": "markdown",
   "metadata": {},
   "source": [
    "## 4. The Greatest Common Divisor\n",
    "As a user, I want to use a program which can calculate the `greatest common divisor (GCD)` of my inputs. \n",
    "\n",
    "Acceptance Criteria:\n",
    "- Ask user the enter the number of inputs (n).\n",
    "- Ask user to enter `n` input numbers one by one.\n",
    "- Use try/except blocks to verify input entries and warn the user for Nan or non numerical inputs.\n",
    "- Calculate the greatest common divisor (GCD) of `n` numbers.\n",
    "- Use `gcd` function in module of math."
   ]
  },
  {
   "cell_type": "code",
   "execution_count": 40,
   "metadata": {},
   "outputs": [
    {
     "name": "stdout",
     "output_type": "stream",
     "text": [
      "7\n"
     ]
    }
   ],
   "source": [
    "from math import gcd\n",
    "n=input(\"n: \")\n",
    "liste=[]\n",
    "try:\n",
    "    n=int(n)\n",
    "    for i in range(n):\n",
    "        liste.append(int(input(\"value: \")))\n",
    "    g=liste[0]\n",
    "    for i in range(len(liste)):\n",
    "        g=gcd(g,liste[i])    \n",
    "    print(g)\n",
    "except (ValueError) as e:\n",
    "    print('Error Code: ',e)"
   ]
  }
 ],
 "metadata": {
  "kernelspec": {
   "display_name": "Python 3.8.5 64-bit ('base': conda)",
   "name": "python385jvsc74a57bd0054e6073c53ecefb2cc966210e656e13c3a3c774a68778f6cdf25d7c37e20456"
  },
  "language_info": {
   "codemirror_mode": {
    "name": "ipython",
    "version": 3
   },
   "file_extension": ".py",
   "mimetype": "text/x-python",
   "name": "python",
   "nbconvert_exporter": "python",
   "pygments_lexer": "ipython3",
   "version": "3.8.5"
  },
  "orig_nbformat": 2
 },
 "nbformat": 4,
 "nbformat_minor": 2
}