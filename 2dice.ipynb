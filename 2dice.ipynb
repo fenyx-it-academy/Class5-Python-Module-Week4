{
 "cells": [
  {
   "cell_type": "markdown",
   "metadata": {},
   "source": [
    "## 2. Dice Percentage\n",
    "* Create an array with 6 elements named `dice`. Fill this array with the value zero. Generate a random number with a value between 1 and 6 (just like a **dice**) in a repetition 5000 times.\n",
    "\n",
    "* If the value is 1, increase the element 0 in the array by 1, the same applies to the values 2, 3, 4, 5 and 6. The dice[0] element indicates the number of times value 1 has occurred. Or in general: dice[x-1] indicates the number of times that x has been thrown. \n",
    "    \n",
    "* At the end of the repetition, print the contents of the array as percentages with 2 decimal places. For example; `\"Percentage of throws of value 3 = 16.28%\"`\n"
   ]
  },
  {
   "cell_type": "code",
   "execution_count": 57,
   "metadata": {},
   "outputs": [
    {
     "name": "stdout",
     "output_type": "stream",
     "text": [
      "Percentage of throws of value 1 = 17.06%\n",
      "Percentage of throws of value 2 = 16.70%\n",
      "Percentage of throws of value 3 = 16.20%\n",
      "Percentage of throws of value 4 = 16.68%\n",
      "Percentage of throws of value 5 = 16.92%\n",
      "Percentage of throws of value 6 = 16.44%\n"
     ]
    }
   ],
   "source": [
    "from random import randint\n",
    "dice=[0]*6 # create a dice list with 6 elements\n",
    "for i in range(5000):#generate 5000 number between 1 and 6\n",
    "    dice[randint(1,6)-1]+=1\n",
    "for i in range(len(dice)):\n",
    "    print('Percentage of throws of value {} = {:.2f}%'.format(i+1,(dice[i]/5000)*100))"
   ]
  }
 ],
 "metadata": {
  "kernelspec": {
   "display_name": "Python 3.8.5 64-bit ('base': conda)",
   "name": "python385jvsc74a57bd0054e6073c53ecefb2cc966210e656e13c3a3c774a68778f6cdf25d7c37e20456"
  },
  "language_info": {
   "name": "python",
   "version": ""
  },
  "orig_nbformat": 2
 },
 "nbformat": 4,
 "nbformat_minor": 2
}